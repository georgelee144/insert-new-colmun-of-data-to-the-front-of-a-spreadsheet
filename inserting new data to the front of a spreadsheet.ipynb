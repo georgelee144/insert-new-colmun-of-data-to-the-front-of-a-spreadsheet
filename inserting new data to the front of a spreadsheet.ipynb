{
 "cells": [
  {
   "cell_type": "code",
   "execution_count": 1,
   "metadata": {},
   "outputs": [],
   "source": [
    "import pandas as pd"
   ]
  },
  {
   "cell_type": "code",
   "execution_count": 2,
   "metadata": {},
   "outputs": [],
   "source": [
    "#load the excel file into a Pandas Data Frame\n",
    "\n",
    "df = pd.read_excel('data/q.xlsx')\n",
    "\n",
    "df_insert = pd.read_excel('data/r.xlsx') #depends on file type"
   ]
  },
  {
   "cell_type": "code",
   "execution_count": 3,
   "metadata": {
    "scrolled": true
   },
   "outputs": [
    {
     "name": "stdout",
     "output_type": "stream",
     "text": [
      "   first  second  third\n",
      "0      1       2      3\n",
      "1      2       4      6\n",
      "2      3       6      9\n",
      "3      4       8     12\n",
      "4      5      10     15\n",
      "5      6      12     18\n",
      "6      7      14     21\n",
      "7      8      16     24\n",
      "8      9      18     27\n",
      "9     10      20     30\n"
     ]
    }
   ],
   "source": [
    "print(df)"
   ]
  },
  {
   "cell_type": "code",
   "execution_count": 4,
   "metadata": {},
   "outputs": [
    {
     "name": "stdout",
     "output_type": "stream",
     "text": [
      "   zero\n",
      "0     0\n",
      "1     0\n",
      "2     0\n",
      "3     0\n",
      "4     0\n",
      "5     0\n",
      "6     0\n",
      "7     0\n",
      "8     0\n",
      "9     0\n"
     ]
    }
   ],
   "source": [
    "print(df_insert)"
   ]
  },
  {
   "cell_type": "code",
   "execution_count": 5,
   "metadata": {},
   "outputs": [
    {
     "name": "stdout",
     "output_type": "stream",
     "text": [
      "   name_of_column  first  second  third\n",
      "0               0      1       2      3\n",
      "1               0      2       4      6\n",
      "2               0      3       6      9\n",
      "3               0      4       8     12\n",
      "4               0      5      10     15\n",
      "5               0      6      12     18\n",
      "6               0      7      14     21\n",
      "7               0      8      16     24\n",
      "8               0      9      18     27\n",
      "9               0     10      20     30\n"
     ]
    }
   ],
   "source": [
    "#dataframe that needs to be changed . insert (location of column, new name of column, data to be inserted)\n",
    "\n",
    "df.insert(loc = 0, column ='name_of_column',value = df_insert)\n",
    "print(df)"
   ]
  },
  {
   "cell_type": "code",
   "execution_count": 6,
   "metadata": {},
   "outputs": [],
   "source": [
    "#export it back out into an excel file\n",
    "df.to_excel('data/r_and_q.xlsx')"
   ]
  }
 ],
 "metadata": {
  "kernelspec": {
   "display_name": "Python 3",
   "language": "python",
   "name": "python3"
  },
  "language_info": {
   "codemirror_mode": {
    "name": "ipython",
    "version": 3
   },
   "file_extension": ".py",
   "mimetype": "text/x-python",
   "name": "python",
   "nbconvert_exporter": "python",
   "pygments_lexer": "ipython3",
   "version": "3.6.8"
  }
 },
 "nbformat": 4,
 "nbformat_minor": 2
}
